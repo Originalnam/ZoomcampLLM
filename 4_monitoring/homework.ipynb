{
 "cells": [
  {
   "cell_type": "code",
   "execution_count": 4,
   "id": "a47b6aac-e51a-41fa-b00b-610a1bdb046e",
   "metadata": {},
   "outputs": [],
   "source": [
    "# get data\n",
    "import pandas as pd\n",
    "url = f'https://raw.githubusercontent.com/DataTalksClub/llm-zoomcamp/main/04-monitoring/data/results-gpt4o-mini.csv'\n",
    "df = pd.read_csv(url)\n",
    "df = df.iloc[:300]"
   ]
  },
  {
   "cell_type": "markdown",
   "id": "4c286a96-2d57-4ecc-98c7-c5e28870b8f7",
   "metadata": {},
   "source": [
    "# Q1"
   ]
  },
  {
   "cell_type": "code",
   "execution_count": 5,
   "id": "45972b9c-b409-4173-b9f8-11ddcb961042",
   "metadata": {},
   "outputs": [
    {
     "name": "stderr",
     "output_type": "stream",
     "text": [
      "/home/codespace/.local/share/virtualenvs/ZoomcampLLM-Iqt_NaeQ/lib/python3.10/site-packages/tqdm/auto.py:21: TqdmWarning: IProgress not found. Please update jupyter and ipywidgets. See https://ipywidgets.readthedocs.io/en/stable/user_install.html\n",
      "  from .autonotebook import tqdm as notebook_tqdm\n",
      "You try to use a model that was created with version 3.0.0.dev0, however, your version is 2.7.0. This might cause unexpected behavior or errors. In that case, try to update to the latest version.\n",
      "\n",
      "\n",
      "\n",
      "/home/codespace/.local/share/virtualenvs/ZoomcampLLM-Iqt_NaeQ/lib/python3.10/site-packages/transformers/tokenization_utils_base.py:1601: FutureWarning: `clean_up_tokenization_spaces` was not set. It will be set to `True` by default. This behavior will be depracted in transformers v4.45, and will be then set to `False` by default. For more details check this issue: https://github.com/huggingface/transformers/issues/31884\n",
      "  warnings.warn(\n"
     ]
    }
   ],
   "source": [
    "from sentence_transformers import SentenceTransformer\n",
    "\n",
    "model_name = 'multi-qa-mpnet-base-dot-v1'\n",
    "embedding_model = SentenceTransformer(model_name)"
   ]
  },
  {
   "cell_type": "code",
   "execution_count": 6,
   "id": "67dd167f-6d99-498f-9b44-5fd8944d770c",
   "metadata": {},
   "outputs": [
    {
     "data": {
      "text/plain": [
       "'You can sign up for the course by visiting the course page at [http://mlzoomcamp.com/](http://mlzoomcamp.com/).'"
      ]
     },
     "execution_count": 6,
     "metadata": {},
     "output_type": "execute_result"
    }
   ],
   "source": [
    "answer_llm = df.iloc[0].answer_llm\n",
    "answer_llm"
   ]
  },
  {
   "cell_type": "code",
   "execution_count": 13,
   "id": "4c029a94-9e98-4b45-8a58-06f2ebe4d0e1",
   "metadata": {},
   "outputs": [
    {
     "name": "stdout",
     "output_type": "stream",
     "text": [
      "-0.42\n"
     ]
    }
   ],
   "source": [
    "embeddings = embedding_model.encode(answer_llm)\n",
    "print(embeddings[0].round(2))"
   ]
  },
  {
   "cell_type": "markdown",
   "id": "91095401-d12f-47fa-bb58-ef032ca5eb2e",
   "metadata": {},
   "source": [
    "# Q2"
   ]
  },
  {
   "cell_type": "code",
   "execution_count": 20,
   "id": "10e9aa04-cdf4-4b88-b061-7f5e330a8ecf",
   "metadata": {},
   "outputs": [
    {
     "data": {
      "text/plain": [
       "Index(['answer_llm', 'answer_orig', 'document', 'question', 'course'], dtype='object')"
      ]
     },
     "execution_count": 20,
     "metadata": {},
     "output_type": "execute_result"
    }
   ],
   "source": [
    "df.keys()"
   ]
  },
  {
   "cell_type": "code",
   "execution_count": 27,
   "id": "6700d161-ae7a-4caf-97be-853642c61bc3",
   "metadata": {},
   "outputs": [
    {
     "data": {
      "text/html": [
       "<div>\n",
       "<style scoped>\n",
       "    .dataframe tbody tr th:only-of-type {\n",
       "        vertical-align: middle;\n",
       "    }\n",
       "\n",
       "    .dataframe tbody tr th {\n",
       "        vertical-align: top;\n",
       "    }\n",
       "\n",
       "    .dataframe thead th {\n",
       "        text-align: right;\n",
       "    }\n",
       "</style>\n",
       "<table border=\"1\" class=\"dataframe\">\n",
       "  <thead>\n",
       "    <tr style=\"text-align: right;\">\n",
       "      <th></th>\n",
       "      <th>answer_llm</th>\n",
       "      <th>answer_orig</th>\n",
       "      <th>document</th>\n",
       "      <th>question</th>\n",
       "      <th>course</th>\n",
       "    </tr>\n",
       "  </thead>\n",
       "  <tbody>\n",
       "    <tr>\n",
       "      <th>0</th>\n",
       "      <td>You can sign up for the course by visiting the...</td>\n",
       "      <td>Machine Learning Zoomcamp FAQ\\nThe purpose of ...</td>\n",
       "      <td>0227b872</td>\n",
       "      <td>Where can I sign up for the course?</td>\n",
       "      <td>machine-learning-zoomcamp</td>\n",
       "    </tr>\n",
       "    <tr>\n",
       "      <th>1</th>\n",
       "      <td>You can sign up using the link provided in the...</td>\n",
       "      <td>Machine Learning Zoomcamp FAQ\\nThe purpose of ...</td>\n",
       "      <td>0227b872</td>\n",
       "      <td>Can you provide a link to sign up?</td>\n",
       "      <td>machine-learning-zoomcamp</td>\n",
       "    </tr>\n",
       "    <tr>\n",
       "      <th>2</th>\n",
       "      <td>Yes, there is an FAQ for the Machine Learning ...</td>\n",
       "      <td>Machine Learning Zoomcamp FAQ\\nThe purpose of ...</td>\n",
       "      <td>0227b872</td>\n",
       "      <td>Is there an FAQ for this Machine Learning course?</td>\n",
       "      <td>machine-learning-zoomcamp</td>\n",
       "    </tr>\n",
       "    <tr>\n",
       "      <th>3</th>\n",
       "      <td>The context does not provide any specific info...</td>\n",
       "      <td>Machine Learning Zoomcamp FAQ\\nThe purpose of ...</td>\n",
       "      <td>0227b872</td>\n",
       "      <td>Does this course have a GitHub repository for ...</td>\n",
       "      <td>machine-learning-zoomcamp</td>\n",
       "    </tr>\n",
       "    <tr>\n",
       "      <th>4</th>\n",
       "      <td>To structure your questions and answers for th...</td>\n",
       "      <td>Machine Learning Zoomcamp FAQ\\nThe purpose of ...</td>\n",
       "      <td>0227b872</td>\n",
       "      <td>How can I structure my questions and answers f...</td>\n",
       "      <td>machine-learning-zoomcamp</td>\n",
       "    </tr>\n",
       "  </tbody>\n",
       "</table>\n",
       "</div>"
      ],
      "text/plain": [
       "                                          answer_llm  \\\n",
       "0  You can sign up for the course by visiting the...   \n",
       "1  You can sign up using the link provided in the...   \n",
       "2  Yes, there is an FAQ for the Machine Learning ...   \n",
       "3  The context does not provide any specific info...   \n",
       "4  To structure your questions and answers for th...   \n",
       "\n",
       "                                         answer_orig  document  \\\n",
       "0  Machine Learning Zoomcamp FAQ\\nThe purpose of ...  0227b872   \n",
       "1  Machine Learning Zoomcamp FAQ\\nThe purpose of ...  0227b872   \n",
       "2  Machine Learning Zoomcamp FAQ\\nThe purpose of ...  0227b872   \n",
       "3  Machine Learning Zoomcamp FAQ\\nThe purpose of ...  0227b872   \n",
       "4  Machine Learning Zoomcamp FAQ\\nThe purpose of ...  0227b872   \n",
       "\n",
       "                                            question  \\\n",
       "0                Where can I sign up for the course?   \n",
       "1                 Can you provide a link to sign up?   \n",
       "2  Is there an FAQ for this Machine Learning course?   \n",
       "3  Does this course have a GitHub repository for ...   \n",
       "4  How can I structure my questions and answers f...   \n",
       "\n",
       "                      course  \n",
       "0  machine-learning-zoomcamp  \n",
       "1  machine-learning-zoomcamp  \n",
       "2  machine-learning-zoomcamp  \n",
       "3  machine-learning-zoomcamp  \n",
       "4  machine-learning-zoomcamp  "
      ]
     },
     "execution_count": 27,
     "metadata": {},
     "output_type": "execute_result"
    }
   ],
   "source": [
    "df.head()"
   ]
  },
  {
   "cell_type": "code",
   "execution_count": 38,
   "id": "925189ca-65ce-4b7e-b637-3595ae3456b5",
   "metadata": {},
   "outputs": [],
   "source": [
    "evaluations = []"
   ]
  },
  {
   "cell_type": "code",
   "execution_count": 40,
   "id": "f969d357-6d99-4203-829d-1bf2d63115cb",
   "metadata": {},
   "outputs": [],
   "source": [
    "for _, rec in df.iterrows():\n",
    "    emb_answer_llm = embedding_model.encode(rec['answer_llm'])\n",
    "    emb_answer_orig = embedding_model.encode(rec['answer_orig'])\n",
    "    \n",
    "    \n",
    "    evaluations.append(emb_answer_orig.dot(emb_answer_llm))"
   ]
  },
  {
   "cell_type": "code",
   "execution_count": 44,
   "id": "ab70ea35-7350-43dc-847a-397d5bc81918",
   "metadata": {},
   "outputs": [
    {
     "name": "stdout",
     "output_type": "stream",
     "text": [
      "31.67\n"
     ]
    }
   ],
   "source": [
    "import numpy as np\n",
    "print(np.percentile(evaluations, 75).round(2))"
   ]
  },
  {
   "cell_type": "markdown",
   "id": "cd6504dd-9b54-4fd4-bfea-93e580116916",
   "metadata": {},
   "source": [
    "# Q3"
   ]
  },
  {
   "cell_type": "code",
   "execution_count": 45,
   "id": "b99e37a1-659f-4650-8f8b-b03ced8b1680",
   "metadata": {},
   "outputs": [],
   "source": [
    "def normalise_vector(v):\n",
    "    norm = np.sqrt((v * v).sum())\n",
    "    v_norm = v / norm\n",
    "    return v_norm"
   ]
  },
  {
   "cell_type": "code",
   "execution_count": 50,
   "id": "dab08991-e82d-487d-896a-1866a6e87a72",
   "metadata": {},
   "outputs": [],
   "source": [
    "norm_evaluations = []\n",
    "\n",
    "for _, rec in df.iterrows():\n",
    "    emb_answer_llm = embedding_model.encode(rec['answer_llm'])\n",
    "    emb_answer_orig = embedding_model.encode(rec['answer_orig'])\n",
    "    \n",
    "    norm_emb_answer_llm = normalise_vector(emb_answer_llm)\n",
    "    norm_emb_answer_orig = normalise_vector(emb_answer_orig)\n",
    "       \n",
    "    \n",
    "    norm_evaluations.append(norm_emb_answer_orig.dot(norm_emb_answer_llm))"
   ]
  },
  {
   "cell_type": "code",
   "execution_count": 53,
   "id": "7502ad95-f167-46d9-ada1-fbc0033bc16d",
   "metadata": {},
   "outputs": [
    {
     "name": "stdout",
     "output_type": "stream",
     "text": [
      "0.84\n"
     ]
    }
   ],
   "source": [
    "print(np.percentile(norm_evaluations, 75).round(2))"
   ]
  },
  {
   "cell_type": "markdown",
   "id": "63c361f8-549b-4d09-b3f1-3a428041370c",
   "metadata": {},
   "source": [
    "# Q4 "
   ]
  },
  {
   "cell_type": "code",
   "execution_count": 56,
   "id": "e65abdf8-8632-4426-9729-a547d62f8d63",
   "metadata": {},
   "outputs": [],
   "source": [
    "rec = df.iloc[10]"
   ]
  },
  {
   "cell_type": "code",
   "execution_count": 57,
   "id": "4047c0c5-441a-4236-8375-95df499f5639",
   "metadata": {},
   "outputs": [],
   "source": [
    "from rouge import Rouge\n",
    "rouge_scorer = Rouge()\n",
    "\n",
    "scores = rouge_scorer.get_scores(rec['answer_llm'], rec['answer_orig'])[0]"
   ]
  },
  {
   "cell_type": "markdown",
   "id": "07199cf4-6d8b-4cc6-9244-bcd9ca7877f0",
   "metadata": {},
   "source": [
    "rouge-1 - the overlap of unigrams,\n",
    "rouge-2 - bigrams,\n",
    "rouge-l - the longest common subsequence"
   ]
  },
  {
   "cell_type": "code",
   "execution_count": 59,
   "id": "d1b0c8e5-7480-4623-a96b-a316a7495ffc",
   "metadata": {},
   "outputs": [
    {
     "data": {
      "text/plain": [
       "{'r': 0.45454545454545453, 'p': 0.45454545454545453, 'f': 0.45454544954545456}"
      ]
     },
     "execution_count": 59,
     "metadata": {},
     "output_type": "execute_result"
    }
   ],
   "source": [
    "scores['rouge-1']"
   ]
  },
  {
   "cell_type": "markdown",
   "id": "525ab976-9676-4b2f-afd3-a3d822f859c1",
   "metadata": {},
   "source": [
    "# Q5"
   ]
  },
  {
   "cell_type": "code",
   "execution_count": 96,
   "id": "7273872e-8416-4857-a22a-0e2e48c3c3e0",
   "metadata": {},
   "outputs": [],
   "source": [
    "rec = df.iloc[10]\n",
    "\n",
    "scores = rouge_scorer.get_scores(rec['answer_llm'], rec['answer_orig'])[0]"
   ]
  },
  {
   "cell_type": "code",
   "execution_count": 101,
   "id": "11d3f8f6-3aa4-4547-b6eb-ed10d606fbf3",
   "metadata": {},
   "outputs": [
    {
     "name": "stdout",
     "output_type": "stream",
     "text": [
      "0.35490034990035496\n"
     ]
    }
   ],
   "source": [
    "avg_f_score = (scores['rouge-1']['f'] + scores['rouge-2']['f'] + scores['rouge-l']['f']) / 3\n",
    "\n",
    "print(round(avg_f_score, 2))\n"
   ]
  },
  {
   "cell_type": "markdown",
   "id": "e1348e6e-5244-4d6d-a7a6-11cf81ff43f6",
   "metadata": {},
   "source": [
    "# Q6"
   ]
  },
  {
   "cell_type": "code",
   "execution_count": 68,
   "id": "f38419ae-07fb-443d-87e4-3703ed3f28fb",
   "metadata": {},
   "outputs": [],
   "source": [
    "from rouge import Rouge\n",
    "rouge_scorer = Rouge()\n",
    "\n",
    "rouge_scores = []\n",
    "\n",
    "for _, rec in df.iterrows():\n",
    "    scores = rouge_scorer.get_scores(rec['answer_llm'], rec['answer_orig'])[0]['rouge-2']['f']\n",
    "    rouge_scores.append(scores)"
   ]
  },
  {
   "cell_type": "code",
   "execution_count": 90,
   "id": "2da97177-ec5e-4ea7-85de-547fce4392f2",
   "metadata": {},
   "outputs": [],
   "source": [
    "test_scores = []\n",
    "\n",
    "for _, rec in df.iterrows():\n",
    "    test = rouge_scorer.get_scores(rec['answer_llm'], rec['answer_orig'])[0]['rouge-2']['f']\n",
    "    test_scores.append(test)"
   ]
  },
  {
   "cell_type": "code",
   "execution_count": 94,
   "id": "937ff02c-9cce-46c1-90a9-0663b01bf71a",
   "metadata": {},
   "outputs": [
    {
     "data": {
      "text/plain": [
       "np.float64(0.21)"
      ]
     },
     "execution_count": 94,
     "metadata": {},
     "output_type": "execute_result"
    }
   ],
   "source": [
    "np.mean(rouge_scores).round(2)"
   ]
  }
 ],
 "metadata": {
  "kernelspec": {
   "display_name": "Python 3 (ipykernel)",
   "language": "python",
   "name": "python3"
  },
  "language_info": {
   "codemirror_mode": {
    "name": "ipython",
    "version": 3
   },
   "file_extension": ".py",
   "mimetype": "text/x-python",
   "name": "python",
   "nbconvert_exporter": "python",
   "pygments_lexer": "ipython3",
   "version": "3.10.13"
  }
 },
 "nbformat": 4,
 "nbformat_minor": 5
}
